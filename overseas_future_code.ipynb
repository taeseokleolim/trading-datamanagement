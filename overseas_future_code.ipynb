{
 "cells": [
  {
   "cell_type": "code",
   "execution_count": 3,
   "metadata": {},
   "outputs": [
    {
     "name": "stdout",
     "output_type": "stream",
     "text": [
      "Downloading...\n",
      "Done\n"
     ]
    }
   ],
   "source": [
    "'''해외선물옵션종목코드 정제 파이썬 파일 : ffcode.mst'''\n",
    "\n",
    "import pandas as pd\n",
    "import urllib.request\n",
    "import ssl\n",
    "import zipfile\n",
    "import os\n",
    "\n",
    "base_dir = os.getcwd()\n",
    "\n",
    "def get_overseas_future_master_dataframe(base_dir):\n",
    "\n",
    "    ssl._create_default_https_context = ssl._create_unverified_context\n",
    "    urllib.request.urlretrieve(\"https://new.real.download.dws.co.kr/common/master/ffcode.mst.zip\", base_dir + \"\\\\ffcode.mst.zip\")\n",
    "    os.chdir(base_dir)\n",
    "\n",
    "    nas_zip = zipfile.ZipFile('ffcode.mst.zip')\n",
    "    nas_zip.extractall()\n",
    "    nas_zip.close()\n",
    "\n",
    "    file_name = base_dir + \"\\\\ffcode.mst\"\n",
    "    columns = ['종목코드', '서버자동주문 가능 종목 여부', '서버자동주문 TWAP 가능 종목 여부', '서버자동 경제지표 주문 가능 종목 여부', \n",
    "               '필러', '종목한글명', '거래소코드 (ISAM KEY 1)', '품목코드 (ISAM KEY 2)', '품목종류', '출력 소수점', '계산 소수점', \n",
    "               '틱사이즈', '틱가치', '계약크기', '가격표시진법', '환산승수', '최다월물여부 0:원월물 1:최다월물', \n",
    "               '최근월물여부 0:원월물 1:최근월물', '스프레드여부', '스프레드기준종목 LEG1 여부', '서브 거래소 코드']\n",
    "    df=pd.DataFrame(columns=columns)\n",
    "    ridx=1\n",
    "    print(\"Downloading...\")\n",
    "    with open(file_name, mode=\"r\", encoding=\"cp949\") as f:\n",
    "        for row in f:\n",
    "            a = row[:32]              # 종목코드        \n",
    "            b = row[32:33].rstrip()   # 서버자동주문 가능 종목 여부\n",
    "            c = row[33:34].rstrip()   # 서버자동주문 TWAP 가능 종목 여부\n",
    "            d = row[34:35]            # 서버자동 경제지표 주문 가능 종목 여부  \n",
    "            e = row[35:82].rstrip()   # 필러\n",
    "            f = row[82:107].rstrip()  # 종목한글명\n",
    "            g = row[-92:-82]          # 거래소코드 (ISAM KEY 1)  \n",
    "            h = row[-82:-72].rstrip() # 품목코드 (ISAM KEY 2)\n",
    "            i = row[-72:-69].rstrip() # 품목종류\n",
    "            j = row[-69:-64]          # 출력 소수점  \n",
    "            k = row[-64:-59].rstrip() # 계산 소수점\n",
    "            l = row[-59:-45].rstrip() # 틱사이즈\n",
    "            m = row[-45:-31]          # 틱가치\n",
    "            n = row[-31:-21].rstrip() # 계약크기 \n",
    "            o = row[-21:-17].rstrip() # 가격표시진법\n",
    "            p = row[-17:-7]          # 환산승수\n",
    "            q = row[-7:-6].rstrip() # 최다월물여부 0:원월물 1:최다월물\n",
    "            r = row[-6:-5].rstrip() # 최근월물여부 0:원월물 1:최근월물\n",
    "            s = row[-5:-4].rstrip() # 스프레드여부\n",
    "            t = row[-4:-3].rstrip() # 스프레드기준종목 LEG1 여부 Y/N\n",
    "            u = row[-3:].rstrip() # 서브 거래소 코드\n",
    "\n",
    "            df.loc[ridx] = [a,b,c,d,e,f,g,h,i,j,k,l,m,n,o,p,q,r,s,t,u]\n",
    "            ridx += 1\n",
    "            \n",
    "    df.to_excel('ffcode.xlsx',index=False)  # 현재 위치에 엑셀파일로 저장\n",
    "\n",
    "    return df\n",
    "    \n",
    "df = get_overseas_future_master_dataframe(base_dir)\n",
    "print(\"Done\")\n"
   ]
  },
  {
   "cell_type": "code",
   "execution_count": 2,
   "metadata": {},
   "outputs": [
    {
     "name": "stdout",
     "output_type": "stream",
     "text": [
      "Collecting openpyxl\n",
      "  Downloading openpyxl-3.1.3-py2.py3-none-any.whl.metadata (2.5 kB)\n",
      "Collecting et-xmlfile (from openpyxl)\n",
      "  Downloading et_xmlfile-1.1.0-py3-none-any.whl.metadata (1.8 kB)\n",
      "Downloading openpyxl-3.1.3-py2.py3-none-any.whl (251 kB)\n",
      "   ---------------------------------------- 0.0/251.3 kB ? eta -:--:--\n",
      "   ---------------------------------------- 251.3/251.3 kB 7.8 MB/s eta 0:00:00\n",
      "Downloading et_xmlfile-1.1.0-py3-none-any.whl (4.7 kB)\n",
      "Installing collected packages: et-xmlfile, openpyxl\n",
      "Successfully installed et-xmlfile-1.1.0 openpyxl-3.1.3\n"
     ]
    }
   ],
   "source": [
    "!pip install openpyxl"
   ]
  },
  {
   "cell_type": "code",
   "execution_count": null,
   "metadata": {},
   "outputs": [],
   "source": []
  }
 ],
 "metadata": {
  "kernelspec": {
   "display_name": "Python 3",
   "language": "python",
   "name": "python3"
  },
  "language_info": {
   "codemirror_mode": {
    "name": "ipython",
    "version": 3
   },
   "file_extension": ".py",
   "mimetype": "text/x-python",
   "name": "python",
   "nbconvert_exporter": "python",
   "pygments_lexer": "ipython3",
   "version": "3.9.13"
  }
 },
 "nbformat": 4,
 "nbformat_minor": 2
}
