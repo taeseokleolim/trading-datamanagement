{
 "cells": [
  {
   "cell_type": "code",
   "execution_count": 17,
   "metadata": {},
   "outputs": [],
   "source": [
    "import yaml\n",
    "from peewee import *"
   ]
  },
  {
   "cell_type": "code",
   "execution_count": 18,
   "metadata": {},
   "outputs": [],
   "source": [
    "with open('configs.yaml', 'r') as file:\n",
    "    configs = yaml.safe_load(file)"
   ]
  },
  {
   "cell_type": "code",
   "execution_count": 19,
   "metadata": {},
   "outputs": [],
   "source": [
    "db = SqliteDatabase(configs['nasdaq_db_path'])"
   ]
  },
  {
   "cell_type": "code",
   "execution_count": 20,
   "metadata": {},
   "outputs": [],
   "source": [
    "\n",
    "class Price(Model):\n",
    "    proc_date = CharField()\n",
    "    proc_time = CharField()\n",
    "    last_price = IntegerField() \n",
    "    bid_qntt = IntegerField()\n",
    "    bid_price = IntegerField()\n",
    "    ask_qntt = IntegerField()\n",
    "    ask_price = IntegerField()\n",
    "    \n",
    "    class Meta:\n",
    "        database = db # This model uses the \"people.db\" database.\n",
    "\n",
    "# Connect to the database.\n",
    "db.connect()\n",
    "\n",
    "# Create tables.\n",
    "db.create_tables([Price])"
   ]
  },
  {
   "cell_type": "code",
   "execution_count": null,
   "metadata": {},
   "outputs": [],
   "source": []
  }
 ],
 "metadata": {
  "kernelspec": {
   "display_name": "Python 3",
   "language": "python",
   "name": "python3"
  },
  "language_info": {
   "codemirror_mode": {
    "name": "ipython",
    "version": 3
   },
   "file_extension": ".py",
   "mimetype": "text/x-python",
   "name": "python",
   "nbconvert_exporter": "python",
   "pygments_lexer": "ipython3",
   "version": "3.9.13"
  }
 },
 "nbformat": 4,
 "nbformat_minor": 2
}
