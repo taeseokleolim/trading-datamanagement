{
 "cells": [
  {
   "cell_type": "code",
   "execution_count": 2,
   "metadata": {},
   "outputs": [],
   "source": [
    "import requests\n",
    "import yaml\n",
    "import json"
   ]
  },
  {
   "cell_type": "code",
   "execution_count": null,
   "metadata": {},
   "outputs": [],
   "source": [
    "class Connector:\n",
    "    def __init__(self, cfg):\n",
    "        self.cfg = cfg\n",
    "        self.ACCESS_TOKEN = self.get_access_token(cfg)\n",
    "        \n",
    "    def get_access_token(self):\n",
    "        URL_BASE = self.cfg['URL_BASE']\n",
    "        headers = {\"content-type\":\"application/json\"}\n",
    "        body = {\"grant_type\":\"client_credentials\",\n",
    "                \"appkey\": self.cfg['appkey'],\n",
    "                \"appsecret\": self.cfg['appsecret'],\n",
    "                }\n",
    "        PATH = \"oauth2/tokenP\"\n",
    "        URL = f\"{URL_BASE}/{PATH}\"\n",
    "        res = requests.post(URL, headers=headers, data=json.dumps(body))\n",
    "        ACCESS_TOKEN = res.json()[\"access_token\"]\n",
    "        return ACCESS_TOKEN\n",
    "    \n",
    "    def inquire_price(self, SRS_CD):\n",
    "        PATH = \"/uapi/overseas-futureoption/v1/quotations/inquire-price\"\n",
    "        URL = f\"{self.cfg['URL_BASE']}/{PATH}\"\n",
    "        headers = {\n",
    "            \"Content-Type\":\"application/json\", \n",
    "            \"authorization\": f\"Bearer {self.ACCESS_TOKEN}\",\n",
    "            \"appKey\": self.cfg['appkey'],\n",
    "            \"appSecret\": self.cfg['appsecret'],\n",
    "            \"tr_id\":\"HHDFC55010000\",\n",
    "            \"custtype\":\"P\",\n",
    "            }\n",
    "        params = {\n",
    "            \"SRS_CD\": SRS_CD,\n",
    "        }\n",
    "        res = requests.get(URL, headers=headers, params=params)\n",
    "        output1 = res.json()['output1']\n",
    "        outdict = {\n",
    "            \"proc_date\": output1['proc_date'],\n",
    "            \"proc_time\": output1['proc_time'],\n",
    "            \"last_price\": output1['last_price'],\n",
    "            \"bid_qntt\": output1['bid_qntt'],\n",
    "            \"bid_price\": output1['bid_price'],\n",
    "            \"ask_qntt\": output1['ask_qntt'],\n",
    "            \"ask_price\": output1['ask_price'],\n",
    "        }\n",
    "        return outdict"
   ]
  }
 ],
 "metadata": {
  "kernelspec": {
   "display_name": "Python 3",
   "language": "python",
   "name": "python3"
  },
  "language_info": {
   "codemirror_mode": {
    "name": "ipython",
    "version": 3
   },
   "file_extension": ".py",
   "mimetype": "text/x-python",
   "name": "python",
   "nbconvert_exporter": "python",
   "pygments_lexer": "ipython3",
   "version": "3.9.13"
  }
 },
 "nbformat": 4,
 "nbformat_minor": 2
}
